{
 "cells": [
  {
   "cell_type": "code",
   "execution_count": 75,
   "metadata": {},
   "outputs": [],
   "source": [
    "import pandas as pd\n",
    "\n",
    "import numpy as np\n",
    "\n",
    "import matplotlib.pyplot as plt\n",
    "\n",
    "import seaborn as sns\n",
    "\n",
    "from datetime import datetime"
   ]
  },
  {
   "cell_type": "code",
   "execution_count": 76,
   "metadata": {},
   "outputs": [],
   "source": [
    "import sys\n",
    "\n",
    "sys.path.append(r'C:\\Users\\simle\\OneDrive\\Documents\\Apexon\\MLFlow')\n",
    "\n",
    "from Data_Ingestion import Maintenance as m"
   ]
  },
  {
   "cell_type": "code",
   "execution_count": 77,
   "metadata": {},
   "outputs": [],
   "source": [
    "dt = m.dt"
   ]
  },
  {
   "cell_type": "code",
   "execution_count": 78,
   "metadata": {},
   "outputs": [
    {
     "name": "stdout",
     "output_type": "stream",
     "text": [
      "   UDI Product ID Type  Air temperature [K]  Process temperature [K]   \n",
      "0    1     M14860    M                298.1                    308.6  \\\n",
      "1    2     L47181    L                298.2                    308.7   \n",
      "2    3     L47182    L                298.1                    308.5   \n",
      "3    4     L47183    L                298.2                    308.6   \n",
      "4    5     L47184    L                298.2                    308.7   \n",
      "\n",
      "   Rotational speed [rpm]  Torque [Nm]  Tool wear [min]  Target Failure Type   \n",
      "0                    1551         42.8                0       0   No Failure  \\\n",
      "1                    1408         46.3                3       0   No Failure   \n",
      "2                    1498         49.4                5       0   No Failure   \n",
      "3                    1433         39.5                7       0   No Failure   \n",
      "4                    1408         40.0                9       0   No Failure   \n",
      "\n",
      "                                             Comment Discovery Date   \n",
      "0     Breast cancer staging may include PET and XRAY       3/4/2022  \\\n",
      "1  An MRI was conducted to investigate the patien...      6/10/2022   \n",
      "2  In the presence of symptoms suggesting lymphom...      8/27/2022   \n",
      "3  Patients presenting with persistent abdominal ...     12/20/2022   \n",
      "4  An X-ray was performed to investigate the pati...      3/18/2022   \n",
      "\n",
      "  Status Date   Due Date Priority Affected Facility Identification Source   \n",
      "0    4/2/2022  3/22/2022        B                ad    Project Management  \\\n",
      "1    7/4/2022  7/12/2022        C                ad    Project Management   \n",
      "2   9/13/2022  10/6/2022        B                ac           Maintenance   \n",
      "3   1/17/2023  1/18/2023        B                ab           Maintenance   \n",
      "4   4/11/2022  3/21/2022        D                ad    Project Management   \n",
      "\n",
      "  Significance  Unnamed: 18  Unnamed: 19  \n",
      "0       medium          NaN          NaN  \n",
      "1       medium          NaN          NaN  \n",
      "2          low          NaN          NaN  \n",
      "3       medium          NaN          NaN  \n",
      "4         high          NaN          NaN  \n"
     ]
    }
   ],
   "source": [
    "print(dt.head())"
   ]
  },
  {
   "cell_type": "code",
   "execution_count": 79,
   "metadata": {},
   "outputs": [],
   "source": [
    "dt=dt.drop(['Unnamed: 18','Unnamed: 19'],axis=1)"
   ]
  },
  {
   "cell_type": "markdown",
   "metadata": {},
   "source": [
    "dt.describe().T"
   ]
  },
  {
   "cell_type": "code",
   "execution_count": 81,
   "metadata": {},
   "outputs": [
    {
     "name": "stdout",
     "output_type": "stream",
     "text": [
      "<class 'pandas.core.frame.DataFrame'>\n",
      "RangeIndex: 10000 entries, 0 to 9999\n",
      "Data columns (total 18 columns):\n",
      " #   Column                   Non-Null Count  Dtype  \n",
      "---  ------                   --------------  -----  \n",
      " 0   UDI                      10000 non-null  int64  \n",
      " 1   Product ID               10000 non-null  object \n",
      " 2   Type                     10000 non-null  object \n",
      " 3   Air temperature [K]      10000 non-null  float64\n",
      " 4   Process temperature [K]  10000 non-null  float64\n",
      " 5   Rotational speed [rpm]   10000 non-null  int64  \n",
      " 6   Torque [Nm]              10000 non-null  float64\n",
      " 7   Tool wear [min]          10000 non-null  int64  \n",
      " 8   Target                   10000 non-null  int64  \n",
      " 9   Failure Type             10000 non-null  object \n",
      " 10  Comment                  10000 non-null  object \n",
      " 11  Discovery Date           10000 non-null  object \n",
      " 12  Status Date              10000 non-null  object \n",
      " 13  Due Date                 10000 non-null  object \n",
      " 14  Priority                 10000 non-null  object \n",
      " 15  Affected Facility        10000 non-null  object \n",
      " 16  Identification Source    10000 non-null  object \n",
      " 17  Significance             10000 non-null  object \n",
      "dtypes: float64(3), int64(4), object(11)\n",
      "memory usage: 1.4+ MB\n"
     ]
    }
   ],
   "source": [
    "dt.info()"
   ]
  },
  {
   "cell_type": "code",
   "execution_count": 82,
   "metadata": {},
   "outputs": [],
   "source": [
    "dt['Due Date'] = pd.to_datetime(dt['Due Date'],format='%m/%d/%Y')\n",
    "dt['Discovery Date'] = pd.to_datetime(dt['Discovery Date'],format='%m/%d/%Y')"
   ]
  },
  {
   "cell_type": "code",
   "execution_count": 83,
   "metadata": {},
   "outputs": [],
   "source": [
    "dt['Diagnosis_Day_Diff'] = (dt['Due Date'] - dt['Discovery Date']).dt.days"
   ]
  },
  {
   "cell_type": "code",
   "execution_count": 84,
   "metadata": {},
   "outputs": [
    {
     "name": "stdout",
     "output_type": "stream",
     "text": [
      "        UDI Product ID Type  Air temperature [K]  Process temperature [K]   \n",
      "0         1     M14860    M                298.1                    308.6  \\\n",
      "1         2     L47181    L                298.2                    308.7   \n",
      "2         3     L47182    L                298.1                    308.5   \n",
      "3         4     L47183    L                298.2                    308.6   \n",
      "4         5     L47184    L                298.2                    308.7   \n",
      "...     ...        ...  ...                  ...                      ...   \n",
      "9995   9996     M24855    M                298.8                    308.4   \n",
      "9996   9997     H39410    H                298.9                    308.4   \n",
      "9997   9998     M24857    M                299.0                    308.6   \n",
      "9998   9999     H39412    H                299.0                    308.7   \n",
      "9999  10000     M24859    M                299.0                    308.7   \n",
      "\n",
      "      Rotational speed [rpm]  Torque [Nm]  Tool wear [min]  Target   \n",
      "0                       1551         42.8                0       0  \\\n",
      "1                       1408         46.3                3       0   \n",
      "2                       1498         49.4                5       0   \n",
      "3                       1433         39.5                7       0   \n",
      "4                       1408         40.0                9       0   \n",
      "...                      ...          ...              ...     ...   \n",
      "9995                    1604         29.5               14       0   \n",
      "9996                    1632         31.8               17       0   \n",
      "9997                    1645         33.4               22       0   \n",
      "9998                    1408         48.5               25       0   \n",
      "9999                    1500         40.2               30       0   \n",
      "\n",
      "     Failure Type                                            Comment   \n",
      "0      No Failure     Breast cancer staging may include PET and XRAY  \\\n",
      "1      No Failure  An MRI was conducted to investigate the patien...   \n",
      "2      No Failure  In the presence of symptoms suggesting lymphom...   \n",
      "3      No Failure  Patients presenting with persistent abdominal ...   \n",
      "4      No Failure  An X-ray was performed to investigate the pati...   \n",
      "...           ...                                                ...   \n",
      "9995   No Failure  In instances of unexplained weight loss and fa...   \n",
      "9996   No Failure  The patient required an X-ray to check for a d...   \n",
      "9997   No Failure  The patient underwent an endoscopy to evaluate...   \n",
      "9998   No Failure  Alzheimer's disease assessment involves PET an...   \n",
      "9999   No Failure  Detecting lung nodules requires endoscopy and ...   \n",
      "\n",
      "     Discovery Date Status Date   Due Date Priority Affected Facility   \n",
      "0        2022-03-04    4/2/2022 2022-03-22        B                ad  \\\n",
      "1        2022-06-10    7/4/2022 2022-07-12        C                ad   \n",
      "2        2022-08-27   9/13/2022 2022-10-06        B                ac   \n",
      "3        2022-12-20   1/17/2023 2023-01-18        B                ab   \n",
      "4        2022-03-18   4/11/2022 2022-03-21        D                ad   \n",
      "...             ...         ...        ...      ...               ...   \n",
      "9995     2022-11-25  12/12/2022 2023-01-14        A                ab   \n",
      "9996     2022-02-09    3/2/2022 2022-03-22        B                aa   \n",
      "9997     2022-03-09   3/22/2022 2022-03-23        D                ac   \n",
      "9998     2022-11-14  12/14/2022 2022-12-17        B                ad   \n",
      "9999     2022-02-03   2/22/2022 2022-03-05        B                ad   \n",
      "\n",
      "     Identification Source Significance  Diagnosis_Day_Diff  \n",
      "0       Project Management       medium                  18  \n",
      "1       Project Management       medium                  32  \n",
      "2              Maintenance          low                  40  \n",
      "3              Maintenance       medium                  29  \n",
      "4       Project Management         high                   3  \n",
      "...                    ...          ...                 ...  \n",
      "9995    Project Management          low                  50  \n",
      "9996           Maintenance          low                  41  \n",
      "9997              Engineer         high                  14  \n",
      "9998              Engineer       medium                  33  \n",
      "9999           Maintenance       medium                  30  \n",
      "\n",
      "[10000 rows x 19 columns]\n"
     ]
    }
   ],
   "source": [
    "print(dt)"
   ]
  },
  {
   "cell_type": "code",
   "execution_count": 90,
   "metadata": {},
   "outputs": [],
   "source": [
    "dt_knn_col = dt[['Priority','Affected Facility','Identification Source','Significance']]"
   ]
  },
  {
   "cell_type": "code",
   "execution_count": 91,
   "metadata": {},
   "outputs": [
    {
     "name": "stdout",
     "output_type": "stream",
     "text": [
      "     Priority Affected Facility Identification Source Significance\n",
      "0           B                ad    Project Management       medium\n",
      "1           C                ad    Project Management       medium\n",
      "2           B                ac           Maintenance          low\n",
      "3           B                ab           Maintenance       medium\n",
      "4           D                ad    Project Management         high\n",
      "...       ...               ...                   ...          ...\n",
      "9995        A                ab    Project Management          low\n",
      "9996        B                aa           Maintenance          low\n",
      "9997        D                ac              Engineer         high\n",
      "9998        B                ad              Engineer       medium\n",
      "9999        B                ad           Maintenance       medium\n",
      "\n",
      "[10000 rows x 4 columns]\n"
     ]
    }
   ],
   "source": [
    "print(dt_knn_col)"
   ]
  },
  {
   "cell_type": "code",
   "execution_count": 98,
   "metadata": {},
   "outputs": [
    {
     "data": {
      "text/plain": [
       "<Axes: xlabel='Significance'>"
      ]
     },
     "execution_count": 98,
     "metadata": {},
     "output_type": "execute_result"
    },
    {
     "data": {
      "image/png": "[encoded data removed]",
      "text/plain": [
       "<Figure size 1200x400 with 1 Axes>"
      ]
     },
     "metadata": {},
     "output_type": "display_data"
    }
   ],
   "source": [
    "(pd.crosstab(dt['Significance'], dt['Identification Source'], normalize = 'index')*100).plot(kind = 'bar', figsize = (12, 4), stacked = True)"
   ]
  },
  {
   "cell_type": "code",
   "execution_count": null,
   "metadata": {},
   "outputs": [],
   "source": [
    "print(dt_knn_col)"
   ]
  },
  {
   "cell_type": "code",
   "execution_count": 102,
   "metadata": {},
   "outputs": [],
   "source": [
    "dt_knn_col.to_csv(r'C:\\Users\\simle\\OneDrive\\Documents\\Apexon\\MLFlow\\Preporcessing_Frameworks\\KNN.csv')"
   ]
  }
 ],
 "metadata": {
  "kernelspec": {
   "display_name": "Python 3",
   "language": "python",
   "name": "python3"
  },
  "language_info": {
   "codemirror_mode": {
    "name": "ipython",
    "version": 3
   },
   "file_extension": ".py",
   "mimetype": "text/x-python",
   "name": "python",
   "nbconvert_exporter": "python",
   "pygments_lexer": "ipython3",
   "version": "3.11.2"
  }
 },
 "nbformat": 4,
 "nbformat_minor": 2
}
