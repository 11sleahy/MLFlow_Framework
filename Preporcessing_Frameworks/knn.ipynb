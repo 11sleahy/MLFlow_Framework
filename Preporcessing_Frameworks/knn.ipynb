{
 "cells": [
  {
   "cell_type": "code",
   "execution_count": 17,
   "metadata": {},
   "outputs": [],
   "source": [
    "import pandas as pd\n",
    "from sklearn.preprocessing import StandardScaler\n",
    "from sklearn.model_selection import train_test_split\n",
    "from sklearn.neighbors import KNeighborsClassifier\n",
    "import matplotlib.pyplot as plt\n",
    "from sklearn.metrics import confusion_matrix, classification_report, precision_recall_curve\n",
    "import seaborn as sns\n",
    "import sys"
   ]
  },
  {
   "cell_type": "code",
   "execution_count": null,
   "metadata": {},
   "outputs": [],
   "source": [
    "sys.path.append(r'C:\\Users\\simle\\OneDrive\\Documents\\Apexon\\MLFlow')\n",
    "from Models.KNN import knn_app\n"
   ]
  },
  {
   "cell_type": "code",
   "execution_count": null,
   "metadata": {},
   "outputs": [],
   "source": [
    "dt = pd.read_csv(r'C:\\Users\\simle\\OneDrive\\Documents\\Apexon\\MLFlow\\HR_Employee_Attrition_Dataset.csv')"
   ]
  },
  {
   "cell_type": "code",
   "execution_count": 4,
   "metadata": {},
   "outputs": [],
   "source": [
    "\n",
    "to_get_dummies_for = ['BusinessTravel', 'Department', 'Education', 'EducationField', 'EnvironmentSatisfaction', 'Gender', 'JobInvolvement', 'JobLevel', 'JobRole', 'MaritalStatus']\n",
    "\n",
    "# Creating dummy variables\n",
    "df = pd.get_dummies(data = dt, columns = to_get_dummies_for, drop_first = True,dtype=int)      \n",
    "\n",
    "# Mapping overtime and attrition\n",
    "dict_OverTime = {'Yes': 1, 'No': 0}\n",
    "dict_attrition = {'Yes': 1, 'No': 0}\n",
    "\n",
    "df['OverTime'] = df.OverTime.map(dict_OverTime)\n",
    "df['Attrition'] = df.Attrition.map(dict_attrition)\n",
    "\n",
    "\n",
    "Y = df.Attrition\n",
    "X = df.drop(columns = ['Attrition','Over18'])\n",
    "\n",
    "sc = StandardScaler()\n",
    "\n",
    "X_scaled = sc.fit_transform(X)\n",
    "\n",
    "X_scaled = pd.DataFrame(X_scaled, columns = X.columns)\n",
    "\n",
    "x_train, x_test, y_train, y_test = train_test_split(X_scaled, Y, test_size = 0.3, random_state = 1, stratify = Y)\n"
   ]
  },
  {
   "cell_type": "code",
   "execution_count": 5,
   "metadata": {},
   "outputs": [],
   "source": [
    "\n",
    "knn = KNeighborsClassifier()"
   ]
  },
  {
   "cell_type": "code",
   "execution_count": 6,
   "metadata": {},
   "outputs": [
    {
     "name": "stdout",
     "output_type": "stream",
     "text": [
      "{1: [0.0, 0.08891585760517791], 2: [0.05477926285945727, 0.14288025889967643], 3: [0.06022681247468613, 0.1591423948220065], 4: [0.11737545565006073, 0.14935275080906152], 5: [0.10838396111786144, 0.14741100323624598], 6: [0.1268732280275415, 0.14716828478964405], 7: [0.12211421628189549, 0.1491100323624596], 8: [0.13703928716079383, 0.14959546925566347], 9: [0.13185500202511138, 0.15088996763754053], 10: [0.14159578776832726, 0.15056634304207125], 11: [0.13710004050222763, 0.15186084142394826], 12: [0.14345889023896313, 0.14991909385113272], 13: [0.1407249898744431, 0.14595469255663437], 14: [0.14627379505872826, 0.1538834951456311]}\n"
     ]
    }
   ],
   "source": [
    "train_error = []\n",
    "\n",
    "test_error = []\n",
    "\n",
    "knn_many_split = {}\n",
    "\n",
    "error_df_knn = pd.DataFrame()\n",
    "\n",
    "features = X.columns\n",
    "\n",
    "for k in range(1, 15):\n",
    "    train_error = []\n",
    "    \n",
    "    test_error = []\n",
    "    \n",
    "    lista = []\n",
    "    \n",
    "    knn = KNeighborsClassifier(n_neighbors = k)\n",
    "    \n",
    "    for i in range(30):\n",
    "        x_train_new, x_val, y_train_new, y_val = train_test_split(x_train, y_train, test_size = 0.20)\n",
    "    \n",
    "        # Fitting K-NN on the training data\n",
    "        knn.fit(x_train_new, y_train_new)\n",
    "        \n",
    "        # Calculating error on the training data and the validation data\n",
    "        train_error.append(1 - knn.score(x_train_new, y_train_new)) \n",
    "        \n",
    "        test_error.append(1 - knn.score(x_val, y_val))\n",
    "    \n",
    "    lista.append(sum(train_error)/len(train_error))\n",
    "    \n",
    "    lista.append(sum(test_error)/len(test_error))\n",
    "    \n",
    "    knn_many_split[k] = lista\n",
    "\n",
    "print(knn_many_split)"
   ]
  },
  {
   "cell_type": "code",
   "execution_count": null,
   "metadata": {},
   "outputs": [],
   "source": [
    "def metrics_score(actual, predicted):\n",
    "\n",
    "    print(classification_report(actual, predicted))\n",
    "\n",
    "    cm = confusion_matrix(actual, predicted)\n",
    "\n",
    "    plt.figure(figsize = (8, 5))\n",
    "\n",
    "    sns.heatmap(cm, annot = True, fmt = '.2f', xticklabels = ['Standard Significance', 'High Significacnce'], yticklabels = ['Standard SIgnificance', 'High Significance'])\n",
    "\n",
    "    plt.ylabel('Actual')\n",
    "\n",
    "    plt.xlabel('Predicted')\n",
    "    \n",
    "    plt.show()"
   ]
  },
  {
   "cell_type": "code",
   "execution_count": 11,
   "metadata": {},
   "outputs": [],
   "source": [
    "knn = KNeighborsClassifier(n_neighbors = 5)\n",
    "knn.fit(x_train,y_train)"
   ]
  }
 ],
 "metadata": {
  "kernelspec": {
   "display_name": "Python 3",
   "language": "python",
   "name": "python3"
  },
  "language_info": {
   "codemirror_mode": {
    "name": "ipython",
    "version": 3
   },
   "file_extension": ".py",
   "mimetype": "text/x-python",
   "name": "python",
   "nbconvert_exporter": "python",
   "pygments_lexer": "ipython3",
   "version": "3.11.2"
  }
 },
 "nbformat": 4,
 "nbformat_minor": 2
}
